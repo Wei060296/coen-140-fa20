{
 "cells": [
  {
   "cell_type": "markdown",
   "metadata": {},
   "source": [
    "\n",
    "# Simple Linear Regression\n",
    "\n",
    "## Exercise 1\n",
    "This exercise uses the truck sales dataset to illustrate ordinary least-squares (OLS), or linear regression. The\n",
    "plot shows the line that linear regression learns, which best minimizes the residual sum of squares\n",
    "between the observed responses in the dataset, and the responses predicted by\n",
    "the linear approximation. We also compute the residual sum of squares and the variance score for the model.\n",
    "\n"
   ]
  },
  {
   "cell_type": "code",
   "execution_count": 1,
   "metadata": {},
   "outputs": [],
   "source": [
    "%matplotlib inline\n",
    "import matplotlib.pyplot as plt\n",
    "import numpy as np\n",
    "import pandas as pd\n",
    "from sklearn import linear_model\n",
    "\n",
    "# Get data\n",
    "df = pd.read_csv(\n",
    "    filepath_or_buffer='data/trucks.csv', \n",
    "    header=None)\n",
    "data = df.iloc[:,:].values\n",
    "X = data[:,0].reshape(-1, 1)\n",
    "Y = data[:,1].reshape(-1, 1)"
   ]
  },
  {
   "cell_type": "markdown",
   "metadata": {},
   "source": [
    "In the following cell, perform the tasks requested in the comments."
   ]
  },
  {
   "cell_type": "code",
   "execution_count": null,
   "metadata": {},
   "outputs": [],
   "source": [
    "# Train the model using the training set only, then extract the slope and intercept\n",
    "# Hint: look up the manual for linear_model.LinearRegression\n",
    "regr = \n",
    "\n",
    "slope = \n",
    "intercept = \n",
    "\n",
    "print(\"y = %f + %fx\" %(intercept, slope))\n",
    "print(\"Mean squared error: %f\"\n",
    "      % np.mean((regr.predict(X) - Y) ** 2))\n",
    "# Explained variance score: 1 is perfect prediction\n",
    "print('Variance score: %f' % regr.score(X, Y))\n",
    "\n",
    "# Create a plot to show the XY points (in black) as well as the prediction line (in red)\n",
    "\n",
    "plt.show()"
   ]
  },
  {
   "cell_type": "markdown",
   "metadata": {},
   "source": [
    "## Exercise 2\n",
    "In the cell below, we load a subset of the Iris dataset from UCI, specifically all the samples for the \"Iris Setosa\" flower. The function `model` should find the OLS model for a pair of features in the data and compute the residual sum of squares and the variance score for that model. The parameters `regressor` and `response` are the names of the X and Y variables. Fill out the missing code in the function."
   ]
  },
  {
   "cell_type": "code",
   "execution_count": 4,
   "metadata": {},
   "outputs": [],
   "source": [
    "import numpy as np\n",
    "import pandas as pd\n",
    "from sklearn import linear_model\n",
    "\n",
    "df = pd.read_csv(\n",
    "    filepath_or_buffer='http://archive.ics.uci.edu/ml/machine-learning-databases/iris/iris.data', \n",
    "    header=None)\n",
    "data = df.iloc[:,:].values\n",
    "data = data[data[:,4] == \"Iris-setosa\"][:,:4]\n",
    "\n",
    "def model(X, Y, regressor=\"X\", response=\"Y\"):\n",
    "    X = X.reshape(-1, 1)\n",
    "    Y = Y.reshape(-1, 1)\n",
    "    regr = \n",
    "\n",
    "    slope = \n",
    "    intercept = \n",
    "\n",
    "    print(\"%s = %f + %f x %s\" %(response, intercept, slope, regressor))\n",
    "    Yp = np.squeeze(regr.predict(X))\n",
    "    sse = np.sum((Yp - Y) ** 2)\n",
    "    print(\"Sum of squared errors: %f\" % sse)\n",
    "    # Explained variance score: 1 is perfect prediction\n",
    "    print('Variance score: %f\\n' % regr.score(X, Y))\n",
    "    return slope, intercept, sse, response, regressor\n"
   ]
  },
  {
   "cell_type": "markdown",
   "metadata": {},
   "source": [
    "The samples have 4 features. For each combination of features (each pair or features), consider one of the variables as predictor and the other as response and use the function `model` to find the OLS model that best fits the data. Report the model with the smallest SSE score."
   ]
  },
  {
   "cell_type": "code",
   "execution_count": 2,
   "metadata": {},
   "outputs": [],
   "source": [
    "names = ['slength', 'swidth', 'plength', 'pwidth']"
   ]
  }
 ],
 "metadata": {
  "anaconda-cloud": {},
  "kernelspec": {
   "display_name": "Python 3",
   "language": "python",
   "name": "python3"
  },
  "language_info": {
   "codemirror_mode": {
    "name": "ipython",
    "version": 3
   },
   "file_extension": ".py",
   "mimetype": "text/x-python",
   "name": "python",
   "nbconvert_exporter": "python",
   "pygments_lexer": "ipython3",
   "version": "3.7.6"
  }
 },
 "nbformat": 4,
 "nbformat_minor": 4
}
